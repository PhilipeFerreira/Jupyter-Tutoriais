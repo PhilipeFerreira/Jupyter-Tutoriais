{
 "cells": [
  {
   "cell_type": "markdown",
   "metadata": {},
   "source": [
    "# Notebooks"
   ]
  },
  {
   "cell_type": "markdown",
   "metadata": {},
   "source": [
    "Notebooks are documents representing all input and output operations. This include code, text input, text and rich media output. These files have ipynb extensions."
   ]
  },
  {
   "cell_type": "markdown",
   "metadata": {},
   "source": [
    "# Cells"
   ]
  },
  {
   "cell_type": "markdown",
   "metadata": {},
   "source": [
    "Cells can contains code or documentation."
   ]
  },
  {
   "cell_type": "markdown",
   "metadata": {},
   "source": [
    "# Markdwon Cells"
   ]
  },
  {
   "cell_type": "markdown",
   "metadata": {},
   "source": [
    "This is a markdown cell. It can contain:\n",
    "\n",
    "- Markdown language\n",
    "- HTML\n",
    "- LateX\n",
    "\n",
    "```markdown\n",
    "**Markdown** *Text*\n",
    "<strong>HTML formula</strong>\n",
    "$LATEX%\n",
    "```\n",
    "\n",
    "**Markdwon** *Text*\n",
    "\n",
    "<strong>HMTL</strong>\n",
    "\n",
    "$LATEX formula$\n",
    "\n",
    "> Quote\n",
    "\n",
    "Line below\n",
    "***"
   ]
  },
  {
   "cell_type": "markdown",
   "metadata": {},
   "source": [
    "# Code Cells"
   ]
  },
  {
   "cell_type": "code",
   "execution_count": 1,
   "metadata": {
    "collapsed": false
   },
   "outputs": [
    {
     "data": {
      "text/plain": [
       "8"
      ]
     },
     "execution_count": 1,
     "metadata": {},
     "output_type": "execute_result"
    }
   ],
   "source": [
    "3+5"
   ]
  },
  {
   "cell_type": "code",
   "execution_count": 2,
   "metadata": {
    "collapsed": false
   },
   "outputs": [
    {
     "data": {
      "text/plain": [
       "8"
      ]
     },
     "execution_count": 2,
     "metadata": {},
     "output_type": "execute_result"
    }
   ],
   "source": [
    "1*2\n",
    "3+5"
   ]
  },
  {
   "cell_type": "code",
   "execution_count": 3,
   "metadata": {
    "collapsed": false
   },
   "outputs": [
    {
     "data": {
      "text/plain": [
       "3"
      ]
     },
     "execution_count": 3,
     "metadata": {},
     "output_type": "execute_result"
    }
   ],
   "source": [
    "x = 1\n",
    "y = 2\n",
    "x + y"
   ]
  },
  {
   "cell_type": "code",
   "execution_count": 5,
   "metadata": {
    "collapsed": false
   },
   "outputs": [],
   "source": [
    "z = x + y"
   ]
  },
  {
   "cell_type": "markdown",
   "metadata": {},
   "source": [
    "# RAW NBConvert"
   ]
  },
  {
   "cell_type": "raw",
   "metadata": {},
   "source": [
    "This is a Raw NBConvert cell.\n",
    "\n",
    "It doesn't render its contents.\n",
    "The problem with them is they may render come tags in IPython NBViewer."
   ]
  },
  {
   "cell_type": "markdown",
   "metadata": {},
   "source": [
    "# Heading Cells"
   ]
  },
  {
   "cell_type": "markdown",
   "metadata": {},
   "source": [
    "Heading cells are great for creating bookmarks in an IPython Notebook. You can hover over headings to find their link. Usually it is capitalized slug of the title text. This helps in linking to a specific part of a notebook."
   ]
  },
  {
   "cell_type": "markdown",
   "metadata": {},
   "source": [
    "# Heading 1\n",
    "## Heading 2\n",
    "### Heading 3\n",
    "#### Heading 4\n",
    "##### Heading 5\n",
    "###### Heading 6"
   ]
  },
  {
   "cell_type": "markdown",
   "metadata": {},
   "source": [
    "# Linking to a Heading"
   ]
  },
  {
   "cell_type": "markdown",
   "metadata": {},
   "source": [
    "Linking to a heading is like linking to an HTML Bookmark. You can do that like this:"
   ]
  },
  {
   "cell_type": "markdown",
   "metadata": {},
   "source": [
    "## Relative Links:"
   ]
  },
  {
   "cell_type": "markdown",
   "metadata": {},
   "source": [
    "```\n",
    "<a href=\"#Heading-1\">Link to a Head 1</a>\n",
    "OR\n",
    "[Link to a Head 1](#Heading-1)\n",
    "```\n",
    "<a href=\"#Head-1\">Link to a Head 1</a>\n",
    "\n",
    "**OR**\n",
    "\n",
    "[Link to a Head 1](#Heading-1)"
   ]
  },
  {
   "cell_type": "markdown",
   "metadata": {},
   "source": [
    "## Absolute Links:"
   ]
  },
  {
   "cell_type": "markdown",
   "metadata": {},
   "source": [
    "```\n",
    "<a href=\"https://prod-vz-10.wakari.io:9027/notebooks/Tutorial/Notebook.ipynb?kernel_exe=/opt/anaconda/envs/np18py33-1.9/bin/python#Heading-1\">Link to a Head 1</a>\n",
    "```\n",
    "\n",
    "<a href=\"https://prod-vz-10.wakari.io:9027/notebooks/Tutorial/Notebook.ipynb?kernel_exe=/opt/anaconda/envs/np18py33-1.9/bin/python#Heading-1\">Link to a Head 1</a>"
   ]
  }
 ],
 "metadata": {
  "kernelspec": {
   "display_name": "Python 3",
   "language": "python",
   "name": "python3"
  },
  "language_info": {
   "codemirror_mode": {
    "name": "ipython",
    "version": 3
   },
   "file_extension": ".py",
   "mimetype": "text/x-python",
   "name": "python",
   "nbconvert_exporter": "python",
   "pygments_lexer": "ipython3",
   "version": "3.5.1"
  }
 },
 "nbformat": 4,
 "nbformat_minor": 0
}
